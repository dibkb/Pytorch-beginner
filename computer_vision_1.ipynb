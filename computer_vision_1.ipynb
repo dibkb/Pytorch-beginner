{
 "cells": [
  {
   "cell_type": "code",
   "execution_count": 2,
   "id": "6b7db4f5-b918-41a0-9d89-590648a7486d",
   "metadata": {},
   "outputs": [],
   "source": [
    "import torch\n",
    "from torch import nn\n",
    "\n",
    "import torchvision\n",
    "from torchvision import datasets\n",
    "from torchvision.transforms import ToTensor\n",
    "\n",
    "import matplotlib.pyplot as plt"
   ]
  },
  {
   "cell_type": "code",
   "execution_count": 16,
   "id": "42b693f1-f9ac-4594-93ed-f2eba8b682ca",
   "metadata": {},
   "outputs": [],
   "source": [
    "# Setup training data\n",
    "train_data = datasets.FashionMNIST(\n",
    "    root=\"data\", # where to download data to?\n",
    "    train=True, # get training data\n",
    "    download=True, # download data if it doesn't exist on disk\n",
    "    transform=ToTensor(), # images come as PIL format, we want to turn into Torch tensors\n",
    "    target_transform=None # you can transform labels as well\n",
    ")\n",
    "test_data = datasets.FashionMNIST(\n",
    "    root=\"data\", # where to download data to?\n",
    "    train=False, # get training data\n",
    "    download=True, # download data if it doesn't exist on disk\n",
    "    transform=ToTensor(), # images come as PIL format, we want to turn into Torch tensors\n",
    "    target_transform=None # you can transform labels as well\n",
    ")"
   ]
  },
  {
   "cell_type": "code",
   "execution_count": 9,
   "id": "9e74e0f5-edf2-425b-b97a-f798fa803901",
   "metadata": {},
   "outputs": [],
   "source": [
    "# image,label \n",
    "image,label = train_data[3]"
   ]
  },
  {
   "cell_type": "code",
   "execution_count": 12,
   "id": "0776e011-d8be-4de5-97d2-356923bfc388",
   "metadata": {},
   "outputs": [
    {
     "data": {
      "text/plain": [
       "torch.Size([1, 28, 28])"
      ]
     },
     "execution_count": 12,
     "metadata": {},
     "output_type": "execute_result"
    }
   ],
   "source": [
    "image.shape"
   ]
  },
  {
   "cell_type": "code",
   "execution_count": 17,
   "id": "7e1ffa04-e063-48a9-807b-d42ece6afa59",
   "metadata": {},
   "outputs": [
    {
     "data": {
      "text/plain": [
       "(60000, 10000)"
      ]
     },
     "execution_count": 17,
     "metadata": {},
     "output_type": "execute_result"
    }
   ],
   "source": [
    "len(train_data),len(test_data)"
   ]
  },
  {
   "cell_type": "code",
   "execution_count": 22,
   "id": "4af03012-465f-4cba-bbb2-d41c6962b18d",
   "metadata": {},
   "outputs": [
    {
     "data": {
      "text/plain": [
       "['T-shirt/top',\n",
       " 'Trouser',\n",
       " 'Pullover',\n",
       " 'Dress',\n",
       " 'Coat',\n",
       " 'Sandal',\n",
       " 'Shirt',\n",
       " 'Sneaker',\n",
       " 'Bag',\n",
       " 'Ankle boot']"
      ]
     },
     "execution_count": 22,
     "metadata": {},
     "output_type": "execute_result"
    }
   ],
   "source": [
    "# get classes\n",
    "clsss_names = train_data.classes\n",
    "clsss_names"
   ]
  },
  {
   "cell_type": "code",
   "execution_count": 33,
   "id": "02c52ae2-ff5e-4a25-9d40-87ecc3cb8bd8",
   "metadata": {},
   "outputs": [],
   "source": [
    "def plot_random(number):\n",
    "    image,label = train_data[number]\n",
    "    fig = plt.figure(figsize=(2, 2))\n",
    "    plt.imshow(image.squeeze(),cmap = \"gray\")\n",
    "    plt.title(clsss_names[label])\n",
    "    plt.show()"
   ]
  },
  {
   "cell_type": "code",
   "execution_count": 39,
   "id": "0613321d-70b1-4d94-83e0-4192a1df81cb",
   "metadata": {},
   "outputs": [
    {
     "data": {
      "image/png": "[encoded data removed]",
      "text/plain": [
       "<Figure size 200x200 with 1 Axes>"
      ]
     },
     "metadata": {},
     "output_type": "display_data"
    }
   ],
   "source": [
    "plot_random(3)"
   ]
  },
  {
   "cell_type": "code",
   "execution_count": 40,
   "id": "aca95e22-2d79-43de-a093-989a2ccba9e3",
   "metadata": {},
   "outputs": [
    {
     "data": {
      "image/png": "[encoded data removed]",
      "text/plain": [
       "<Figure size 200x200 with 1 Axes>"
      ]
     },
     "metadata": {},
     "output_type": "display_data"
    }
   ],
   "source": [
    "plot_random(6)"
   ]
  },
  {
   "cell_type": "code",
   "execution_count": 41,
   "id": "474d3b73-97ea-4817-81d6-5f7541dc3107",
   "metadata": {},
   "outputs": [
    {
     "data": {
      "image/png": "[encoded data removed]",
      "text/plain": [
       "<Figure size 200x200 with 1 Axes>"
      ]
     },
     "metadata": {},
     "output_type": "display_data"
    }
   ],
   "source": [
    "plot_random(9)"
   ]
  },
  {
   "cell_type": "code",
   "execution_count": null,
   "id": "7b277538-e81b-4fb6-bf4e-1ffcc466febc",
   "metadata": {},
   "outputs": [],
   "source": []
  }
 ],
 "metadata": {
  "kernelspec": {
   "display_name": "Python 3 (ipykernel)",
   "language": "python",
   "name": "python3"
  },
  "language_info": {
   "codemirror_mode": {
    "name": "ipython",
    "version": 3
   },
   "file_extension": ".py",
   "mimetype": "text/x-python",
   "name": "python",
   "nbconvert_exporter": "python",
   "pygments_lexer": "ipython3",
   "version": "3.11.5"
  }
 },
 "nbformat": 4,
 "nbformat_minor": 5
}
