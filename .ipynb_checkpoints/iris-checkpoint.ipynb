{
 "cells": [
  {
   "cell_type": "markdown",
   "id": "f0b81924-6963-4b0c-a691-8e1cd80475c4",
   "metadata": {},
   "source": [
    "#### Load the dataset\n"
   ]
  },
  {
   "cell_type": "code",
   "execution_count": 3,
   "id": "5a2b519c-abc6-4b71-a4f2-c0b907cd738e",
   "metadata": {},
   "outputs": [],
   "source": [
    "from sklearn.datasets import load_iris\n",
    "data = load_iris()"
   ]
  },
  {
   "cell_type": "code",
   "execution_count": 4,
   "id": "b9b3b5be-c8ed-46c2-bc1a-f8dd7ac652bb",
   "metadata": {},
   "outputs": [],
   "source": [
    "import pandas as pd\n",
    "df = pd.DataFrame({data['feature_names'][0]: data['data'][:,0],\n",
    "    data['feature_names'][1]: data['data'][:,1],\n",
    "    data['feature_names'][2]: data['data'][:,2],\n",
    "    data['feature_names'][3]: data['data'][:,3],\n",
    "    \"label\": data['target']\n",
    "})"
   ]
  },
  {
   "cell_type": "code",
   "execution_count": 5,
   "id": "f0cbcf9b-86b9-4530-9211-1f1dd5f44e14",
   "metadata": {},
   "outputs": [
    {
     "data": {
      "text/html": [
       "<div>\n",
       "<style scoped>\n",
       "    .dataframe tbody tr th:only-of-type {\n",
       "        vertical-align: middle;\n",
       "    }\n",
       "\n",
       "    .dataframe tbody tr th {\n",
       "        vertical-align: top;\n",
       "    }\n",
       "\n",
       "    .dataframe thead th {\n",
       "        text-align: right;\n",
       "    }\n",
       "</style>\n",
       "<table border=\"1\" class=\"dataframe\">\n",
       "  <thead>\n",
       "    <tr style=\"text-align: right;\">\n",
       "      <th></th>\n",
       "      <th>sepal length (cm)</th>\n",
       "      <th>sepal width (cm)</th>\n",
       "      <th>petal length (cm)</th>\n",
       "      <th>petal width (cm)</th>\n",
       "      <th>label</th>\n",
       "    </tr>\n",
       "  </thead>\n",
       "  <tbody>\n",
       "    <tr>\n",
       "      <th>0</th>\n",
       "      <td>5.1</td>\n",
       "      <td>3.5</td>\n",
       "      <td>1.4</td>\n",
       "      <td>0.2</td>\n",
       "      <td>0</td>\n",
       "    </tr>\n",
       "    <tr>\n",
       "      <th>1</th>\n",
       "      <td>4.9</td>\n",
       "      <td>3.0</td>\n",
       "      <td>1.4</td>\n",
       "      <td>0.2</td>\n",
       "      <td>0</td>\n",
       "    </tr>\n",
       "    <tr>\n",
       "      <th>2</th>\n",
       "      <td>4.7</td>\n",
       "      <td>3.2</td>\n",
       "      <td>1.3</td>\n",
       "      <td>0.2</td>\n",
       "      <td>0</td>\n",
       "    </tr>\n",
       "    <tr>\n",
       "      <th>3</th>\n",
       "      <td>4.6</td>\n",
       "      <td>3.1</td>\n",
       "      <td>1.5</td>\n",
       "      <td>0.2</td>\n",
       "      <td>0</td>\n",
       "    </tr>\n",
       "    <tr>\n",
       "      <th>4</th>\n",
       "      <td>5.0</td>\n",
       "      <td>3.6</td>\n",
       "      <td>1.4</td>\n",
       "      <td>0.2</td>\n",
       "      <td>0</td>\n",
       "    </tr>\n",
       "  </tbody>\n",
       "</table>\n",
       "</div>"
      ],
      "text/plain": [
       "   sepal length (cm)  sepal width (cm)  petal length (cm)  petal width (cm)  \\\n",
       "0                5.1               3.5                1.4               0.2   \n",
       "1                4.9               3.0                1.4               0.2   \n",
       "2                4.7               3.2                1.3               0.2   \n",
       "3                4.6               3.1                1.5               0.2   \n",
       "4                5.0               3.6                1.4               0.2   \n",
       "\n",
       "   label  \n",
       "0      0  \n",
       "1      0  \n",
       "2      0  \n",
       "3      0  \n",
       "4      0  "
      ]
     },
     "execution_count": 5,
     "metadata": {},
     "output_type": "execute_result"
    }
   ],
   "source": [
    "# Checking the dataframe\n",
    "df.head()"
   ]
  },
  {
   "cell_type": "code",
   "execution_count": 6,
   "id": "ee55bb7b-47e7-44cb-985b-e1b113ab1a46",
   "metadata": {},
   "outputs": [
    {
     "data": {
      "text/plain": [
       "label\n",
       "0    50\n",
       "1    50\n",
       "2    50\n",
       "Name: count, dtype: int64"
      ]
     },
     "execution_count": 6,
     "metadata": {},
     "output_type": "execute_result"
    }
   ],
   "source": [
    "# check the count of the labels\n",
    "df['label'].value_counts()"
   ]
  },
  {
   "cell_type": "code",
   "execution_count": 45,
   "id": "fef2e96a-74ff-4070-8e14-06665a91928c",
   "metadata": {},
   "outputs": [],
   "source": [
    "X = data['data']\n",
    "y = data['target']"
   ]
  },
  {
   "cell_type": "code",
   "execution_count": 46,
   "id": "dd15471b-322e-48ab-acb1-37db0ce40766",
   "metadata": {},
   "outputs": [],
   "source": [
    "import torch"
   ]
  },
  {
   "cell_type": "code",
   "execution_count": 47,
   "id": "1ced8f07-f913-441e-9644-0f0c491793f4",
   "metadata": {},
   "outputs": [],
   "source": [
    "# Turing data to tensors\n",
    "X = torch.from_numpy(X).type(torch.float)\n",
    "y = torch.from_numpy(y).type(torch.LongTensor)"
   ]
  },
  {
   "cell_type": "code",
   "execution_count": 48,
   "id": "a4582d64-c2ce-409c-be26-9f6ed3a1df98",
   "metadata": {},
   "outputs": [
    {
     "data": {
      "text/plain": [
       "(torch.float32, torch.int64)"
      ]
     },
     "execution_count": 48,
     "metadata": {},
     "output_type": "execute_result"
    }
   ],
   "source": [
    "X.dtype, y.dtype"
   ]
  },
  {
   "cell_type": "code",
   "execution_count": 49,
   "id": "462f7091-757b-4ce7-bcf2-c7065f66e511",
   "metadata": {},
   "outputs": [
    {
     "data": {
      "text/plain": [
       "(torch.Size([150, 4]), torch.Size([150]))"
      ]
     },
     "execution_count": 49,
     "metadata": {},
     "output_type": "execute_result"
    }
   ],
   "source": [
    "X.shape,y.shape"
   ]
  },
  {
   "cell_type": "markdown",
   "id": "aa0ac140-405e-47fb-accd-d4edeac6674a",
   "metadata": {},
   "source": [
    "#### Spliting to training and testing set"
   ]
  },
  {
   "cell_type": "code",
   "execution_count": 101,
   "id": "691c5f18-c95a-4daa-bc3b-79d03a4e5287",
   "metadata": {},
   "outputs": [],
   "source": [
    "from sklearn.model_selection import train_test_split\n",
    "X_train, X_test, y_train, y_test = train_test_split(X,y,\n",
    "    test_size=0.2,\n",
    "    random_state=42\n",
    ")"
   ]
  },
  {
   "cell_type": "code",
   "execution_count": 145,
   "id": "5fa185dc-4a22-4201-b2ec-bab6bff06835",
   "metadata": {},
   "outputs": [],
   "source": [
    "from torch import nn\n",
    "class IrisClassifierV1(nn.Module):\n",
    "    def __init__(self,input_features,output_features,hidden_units = 9):\n",
    "        super().__init__()\n",
    "        \n",
    "        self.linear_stack_layer = nn.Sequential(\n",
    "            nn.Linear(in_features = input_features, out_features = hidden_units),\n",
    "            nn.ReLU6(),\n",
    "            nn.Linear(in_features = hidden_units, out_features = hidden_units),\n",
    "            # nn.ReLU(), \n",
    "            nn.Linear(in_features = hidden_units, out_features = output_features),\n",
    "        )\n",
    "    def forward(self,x):\n",
    "         return self.linear_stack_layer(x)"
   ]
  },
  {
   "cell_type": "code",
   "execution_count": 146,
   "id": "15a27256-3dcc-4df4-adfa-e2514d1917f4",
   "metadata": {},
   "outputs": [
    {
     "data": {
      "text/plain": [
       "IrisClassifierV1(\n",
       "  (linear_stack_layer): Sequential(\n",
       "    (0): Linear(in_features=4, out_features=9, bias=True)\n",
       "    (1): ReLU6()\n",
       "    (2): Linear(in_features=9, out_features=9, bias=True)\n",
       "    (3): Linear(in_features=9, out_features=3, bias=True)\n",
       "  )\n",
       ")"
      ]
     },
     "execution_count": 146,
     "metadata": {},
     "output_type": "execute_result"
    }
   ],
   "source": [
    "modelOne = IrisClassifierV1(input_features = 4,output_features = 3)\n",
    "modelOne"
   ]
  },
  {
   "cell_type": "code",
   "execution_count": 147,
   "id": "2f147730-ecfe-4675-adcd-fa4636b6c2ea",
   "metadata": {},
   "outputs": [],
   "source": [
    "loss_fn = nn.CrossEntropyLoss()\n",
    "optimizer = torch.optim.SGD(modelOne.parameters(), \n",
    "                            lr=0.01)"
   ]
  },
  {
   "cell_type": "code",
   "execution_count": 148,
   "id": "0a95fd1b-26a0-4db8-bd26-d07a7473eb01",
   "metadata": {},
   "outputs": [],
   "source": [
    "def accuracy_fn(y_true, y_pred):\n",
    "    correct = torch.eq(y_true, y_pred).sum().item() # torch.eq() calculates where two tensors are equal\n",
    "    acc = (correct / len(y_pred)) * 100 \n",
    "    return acc"
   ]
  },
  {
   "cell_type": "code",
   "execution_count": 149,
   "id": "e0c1778a-a351-416b-a132-bc83e72ba80c",
   "metadata": {},
   "outputs": [
    {
     "data": {
      "text/plain": [
       "torch.Size([3])"
      ]
     },
     "execution_count": 149,
     "metadata": {},
     "output_type": "execute_result"
    }
   ],
   "source": [
    "# Perform a single forward pass on the data (we'll need to put it to the target device for it to work)\n",
    "modelOne(X_train)[:5][0].shape"
   ]
  },
  {
   "cell_type": "raw",
   "id": "1130d93d-c6e3-43a7-b687-3dadadaf8980",
   "metadata": {},
   "source": [
    "logits -> prediction probabilities -> prediction labels"
   ]
  },
  {
   "cell_type": "code",
   "execution_count": 150,
   "id": "0f70f312-a808-4aa6-9153-48ad27cf6391",
   "metadata": {},
   "outputs": [],
   "source": [
    "y_logits = modelOne(X_test)\n",
    "y_pred_probs = torch.softmax(y_logits, dim=1) "
   ]
  },
  {
   "cell_type": "code",
   "execution_count": 151,
   "id": "f857d432-5bd0-41d3-ba98-daac3cfe62d7",
   "metadata": {},
   "outputs": [
    {
     "name": "stdout",
     "output_type": "stream",
     "text": [
      "tensor([0.2000, 0.6855, 0.1145], grad_fn=<SelectBackward0>)\n",
      "tensor(1)\n"
     ]
    }
   ],
   "source": [
    "# Which class does the model think is *most* likely at the index 0 sample?\n",
    "print(y_pred_probs[0])\n",
    "print(torch.argmax(y_pred_probs[0]))"
   ]
  },
  {
   "cell_type": "markdown",
   "id": "4f07ebb0-d99b-450c-ad5c-7309fae19e22",
   "metadata": {},
   "source": [
    "#### Training Loop"
   ]
  },
  {
   "cell_type": "code",
   "execution_count": 152,
   "id": "0e16ef57-d3e1-4a16-9a5d-09885cf6a95b",
   "metadata": {},
   "outputs": [
    {
     "name": "stdout",
     "output_type": "stream",
     "text": [
      "Epoch: 0 | Loss: 1.40626, Acc: 34.17% | Test Loss: 1.39921, Test Acc: 30.00%\n",
      "Epoch: 10 | Loss: 1.11721, Acc: 34.17% | Test Loss: 1.12505, Test Acc: 30.00%\n",
      "Epoch: 20 | Loss: 1.08207, Acc: 35.83% | Test Loss: 1.07924, Test Acc: 43.33%\n",
      "Epoch: 30 | Loss: 1.06739, Acc: 46.67% | Test Loss: 1.05914, Test Acc: 40.00%\n",
      "Epoch: 40 | Loss: 1.05475, Acc: 33.33% | Test Loss: 1.04372, Test Acc: 36.67%\n",
      "Epoch: 50 | Loss: 1.04155, Acc: 45.00% | Test Loss: 1.02920, Test Acc: 60.00%\n",
      "Epoch: 60 | Loss: 1.02714, Acc: 60.83% | Test Loss: 1.01405, Test Acc: 70.00%\n",
      "Epoch: 70 | Loss: 1.01133, Acc: 65.83% | Test Loss: 0.99774, Test Acc: 70.00%\n",
      "Epoch: 80 | Loss: 0.99449, Acc: 65.83% | Test Loss: 0.98059, Test Acc: 70.00%\n",
      "Epoch: 90 | Loss: 0.97623, Acc: 65.83% | Test Loss: 0.96207, Test Acc: 70.00%\n",
      "Epoch: 100 | Loss: 0.95636, Acc: 65.83% | Test Loss: 0.94210, Test Acc: 70.00%\n",
      "Epoch: 110 | Loss: 0.93472, Acc: 65.83% | Test Loss: 0.92029, Test Acc: 70.00%\n",
      "Epoch: 120 | Loss: 0.91128, Acc: 66.67% | Test Loss: 0.89637, Test Acc: 70.00%\n",
      "Epoch: 130 | Loss: 0.88596, Acc: 66.67% | Test Loss: 0.87057, Test Acc: 70.00%\n",
      "Epoch: 140 | Loss: 0.85882, Acc: 66.67% | Test Loss: 0.84304, Test Acc: 70.00%\n",
      "Epoch: 150 | Loss: 0.83005, Acc: 67.50% | Test Loss: 0.81397, Test Acc: 70.00%\n",
      "Epoch: 160 | Loss: 0.79995, Acc: 68.33% | Test Loss: 0.78364, Test Acc: 70.00%\n",
      "Epoch: 170 | Loss: 0.76897, Acc: 70.00% | Test Loss: 0.75255, Test Acc: 73.33%\n",
      "Epoch: 180 | Loss: 0.73761, Acc: 74.17% | Test Loss: 0.72123, Test Acc: 76.67%\n",
      "Epoch: 190 | Loss: 0.70645, Acc: 75.83% | Test Loss: 0.69034, Test Acc: 76.67%\n",
      "Epoch: 200 | Loss: 0.67602, Acc: 78.33% | Test Loss: 0.66030, Test Acc: 80.00%\n",
      "Epoch: 210 | Loss: 0.64676, Acc: 81.67% | Test Loss: 0.63166, Test Acc: 80.00%\n",
      "Epoch: 220 | Loss: 0.61903, Acc: 83.33% | Test Loss: 0.60468, Test Acc: 80.00%\n",
      "Epoch: 230 | Loss: 0.59302, Acc: 85.00% | Test Loss: 0.57947, Test Acc: 80.00%\n",
      "Epoch: 240 | Loss: 0.56883, Acc: 87.50% | Test Loss: 0.55608, Test Acc: 83.33%\n",
      "Epoch: 250 | Loss: 0.54646, Acc: 87.50% | Test Loss: 0.53465, Test Acc: 86.67%\n",
      "Epoch: 260 | Loss: 0.52580, Acc: 90.00% | Test Loss: 0.51495, Test Acc: 90.00%\n",
      "Epoch: 270 | Loss: 0.50672, Acc: 91.67% | Test Loss: 0.49672, Test Acc: 90.00%\n",
      "Epoch: 280 | Loss: 0.48904, Acc: 92.50% | Test Loss: 0.47974, Test Acc: 90.00%\n",
      "Epoch: 290 | Loss: 0.47259, Acc: 93.33% | Test Loss: 0.46418, Test Acc: 93.33%\n",
      "Epoch: 300 | Loss: 0.45725, Acc: 94.17% | Test Loss: 0.44970, Test Acc: 96.67%\n",
      "Epoch: 310 | Loss: 0.44283, Acc: 94.17% | Test Loss: 0.43601, Test Acc: 96.67%\n",
      "Epoch: 320 | Loss: 0.42920, Acc: 95.00% | Test Loss: 0.42298, Test Acc: 96.67%\n",
      "Epoch: 330 | Loss: 0.41624, Acc: 95.00% | Test Loss: 0.41049, Test Acc: 96.67%\n",
      "Epoch: 340 | Loss: 0.40386, Acc: 95.00% | Test Loss: 0.39849, Test Acc: 96.67%\n",
      "Epoch: 350 | Loss: 0.39198, Acc: 96.67% | Test Loss: 0.38694, Test Acc: 96.67%\n",
      "Epoch: 360 | Loss: 0.38052, Acc: 96.67% | Test Loss: 0.37575, Test Acc: 96.67%\n",
      "Epoch: 370 | Loss: 0.36946, Acc: 96.67% | Test Loss: 0.36494, Test Acc: 96.67%\n",
      "Epoch: 380 | Loss: 0.35877, Acc: 96.67% | Test Loss: 0.35486, Test Acc: 96.67%\n",
      "Epoch: 390 | Loss: 0.34845, Acc: 96.67% | Test Loss: 0.34525, Test Acc: 96.67%\n",
      "Epoch: 400 | Loss: 0.33843, Acc: 96.67% | Test Loss: 0.33590, Test Acc: 96.67%\n",
      "Epoch: 410 | Loss: 0.32871, Acc: 96.67% | Test Loss: 0.32686, Test Acc: 96.67%\n",
      "Epoch: 420 | Loss: 0.31927, Acc: 96.67% | Test Loss: 0.31814, Test Acc: 96.67%\n",
      "Epoch: 430 | Loss: 0.31014, Acc: 96.67% | Test Loss: 0.30974, Test Acc: 96.67%\n",
      "Epoch: 440 | Loss: 0.30130, Acc: 96.67% | Test Loss: 0.30169, Test Acc: 96.67%\n",
      "Epoch: 450 | Loss: 0.29272, Acc: 96.67% | Test Loss: 0.29390, Test Acc: 96.67%\n",
      "Epoch: 460 | Loss: 0.28442, Acc: 96.67% | Test Loss: 0.28636, Test Acc: 96.67%\n",
      "Epoch: 470 | Loss: 0.27637, Acc: 97.50% | Test Loss: 0.27908, Test Acc: 96.67%\n",
      "Epoch: 480 | Loss: 0.26859, Acc: 97.50% | Test Loss: 0.27210, Test Acc: 96.67%\n",
      "Epoch: 490 | Loss: 0.26111, Acc: 97.50% | Test Loss: 0.26535, Test Acc: 96.67%\n",
      "Epoch: 500 | Loss: 0.25390, Acc: 97.50% | Test Loss: 0.25885, Test Acc: 96.67%\n",
      "Epoch: 510 | Loss: 0.24696, Acc: 97.50% | Test Loss: 0.25266, Test Acc: 96.67%\n",
      "Epoch: 520 | Loss: 0.24027, Acc: 97.50% | Test Loss: 0.24664, Test Acc: 96.67%\n",
      "Epoch: 530 | Loss: 0.23386, Acc: 97.50% | Test Loss: 0.24090, Test Acc: 96.67%\n",
      "Epoch: 540 | Loss: 0.22772, Acc: 97.50% | Test Loss: 0.23536, Test Acc: 100.00%\n",
      "Epoch: 550 | Loss: 0.22181, Acc: 97.50% | Test Loss: 0.23007, Test Acc: 100.00%\n",
      "Epoch: 560 | Loss: 0.21615, Acc: 97.50% | Test Loss: 0.22498, Test Acc: 100.00%\n",
      "Epoch: 570 | Loss: 0.21071, Acc: 97.50% | Test Loss: 0.22020, Test Acc: 100.00%\n",
      "Epoch: 580 | Loss: 0.20550, Acc: 97.50% | Test Loss: 0.21565, Test Acc: 100.00%\n",
      "Epoch: 590 | Loss: 0.20050, Acc: 97.50% | Test Loss: 0.21130, Test Acc: 100.00%\n",
      "Epoch: 600 | Loss: 0.19571, Acc: 97.50% | Test Loss: 0.20714, Test Acc: 100.00%\n",
      "Epoch: 610 | Loss: 0.19113, Acc: 97.50% | Test Loss: 0.20319, Test Acc: 100.00%\n",
      "Epoch: 620 | Loss: 0.18674, Acc: 97.50% | Test Loss: 0.19940, Test Acc: 100.00%\n",
      "Epoch: 630 | Loss: 0.18255, Acc: 97.50% | Test Loss: 0.19576, Test Acc: 100.00%\n",
      "Epoch: 640 | Loss: 0.17855, Acc: 97.50% | Test Loss: 0.19228, Test Acc: 100.00%\n",
      "Epoch: 650 | Loss: 0.17472, Acc: 97.50% | Test Loss: 0.18894, Test Acc: 100.00%\n",
      "Epoch: 660 | Loss: 0.17106, Acc: 97.50% | Test Loss: 0.18573, Test Acc: 100.00%\n",
      "Epoch: 670 | Loss: 0.16757, Acc: 97.50% | Test Loss: 0.18265, Test Acc: 100.00%\n",
      "Epoch: 680 | Loss: 0.16423, Acc: 97.50% | Test Loss: 0.17971, Test Acc: 100.00%\n",
      "Epoch: 690 | Loss: 0.16103, Acc: 97.50% | Test Loss: 0.17690, Test Acc: 100.00%\n",
      "Epoch: 700 | Loss: 0.15796, Acc: 97.50% | Test Loss: 0.17421, Test Acc: 100.00%\n",
      "Epoch: 710 | Loss: 0.15503, Acc: 97.50% | Test Loss: 0.17165, Test Acc: 100.00%\n",
      "Epoch: 720 | Loss: 0.15222, Acc: 97.50% | Test Loss: 0.16919, Test Acc: 100.00%\n",
      "Epoch: 730 | Loss: 0.14954, Acc: 97.50% | Test Loss: 0.16682, Test Acc: 100.00%\n",
      "Epoch: 740 | Loss: 0.14697, Acc: 97.50% | Test Loss: 0.16453, Test Acc: 100.00%\n",
      "Epoch: 750 | Loss: 0.14450, Acc: 97.50% | Test Loss: 0.16234, Test Acc: 100.00%\n",
      "Epoch: 760 | Loss: 0.14214, Acc: 97.50% | Test Loss: 0.16026, Test Acc: 100.00%\n",
      "Epoch: 770 | Loss: 0.13988, Acc: 97.50% | Test Loss: 0.15826, Test Acc: 100.00%\n",
      "Epoch: 780 | Loss: 0.13770, Acc: 97.50% | Test Loss: 0.15633, Test Acc: 100.00%\n",
      "Epoch: 790 | Loss: 0.13562, Acc: 97.50% | Test Loss: 0.15449, Test Acc: 100.00%\n",
      "Epoch: 800 | Loss: 0.13362, Acc: 97.50% | Test Loss: 0.15271, Test Acc: 100.00%\n",
      "Epoch: 810 | Loss: 0.13170, Acc: 97.50% | Test Loss: 0.15101, Test Acc: 100.00%\n",
      "Epoch: 820 | Loss: 0.12985, Acc: 97.50% | Test Loss: 0.14938, Test Acc: 100.00%\n",
      "Epoch: 830 | Loss: 0.12808, Acc: 97.50% | Test Loss: 0.14780, Test Acc: 100.00%\n",
      "Epoch: 840 | Loss: 0.12638, Acc: 97.50% | Test Loss: 0.14629, Test Acc: 100.00%\n",
      "Epoch: 850 | Loss: 0.12474, Acc: 97.50% | Test Loss: 0.14491, Test Acc: 100.00%\n",
      "Epoch: 860 | Loss: 0.12317, Acc: 97.50% | Test Loss: 0.14352, Test Acc: 100.00%\n",
      "Epoch: 870 | Loss: 0.12165, Acc: 97.50% | Test Loss: 0.14217, Test Acc: 100.00%\n",
      "Epoch: 880 | Loss: 0.12019, Acc: 97.50% | Test Loss: 0.14088, Test Acc: 100.00%\n",
      "Epoch: 890 | Loss: 0.11879, Acc: 97.50% | Test Loss: 0.13964, Test Acc: 100.00%\n",
      "Epoch: 900 | Loss: 0.11744, Acc: 97.50% | Test Loss: 0.13845, Test Acc: 100.00%\n",
      "Epoch: 910 | Loss: 0.11613, Acc: 97.50% | Test Loss: 0.13729, Test Acc: 100.00%\n",
      "Epoch: 920 | Loss: 0.11487, Acc: 97.50% | Test Loss: 0.13617, Test Acc: 100.00%\n",
      "Epoch: 930 | Loss: 0.11366, Acc: 97.50% | Test Loss: 0.13509, Test Acc: 100.00%\n",
      "Epoch: 940 | Loss: 0.11249, Acc: 97.50% | Test Loss: 0.13405, Test Acc: 100.00%\n",
      "Epoch: 950 | Loss: 0.11136, Acc: 97.50% | Test Loss: 0.13305, Test Acc: 100.00%\n",
      "Epoch: 960 | Loss: 0.11027, Acc: 98.33% | Test Loss: 0.13208, Test Acc: 100.00%\n",
      "Epoch: 970 | Loss: 0.10922, Acc: 98.33% | Test Loss: 0.13114, Test Acc: 100.00%\n",
      "Epoch: 980 | Loss: 0.10820, Acc: 98.33% | Test Loss: 0.13025, Test Acc: 100.00%\n",
      "Epoch: 990 | Loss: 0.10721, Acc: 98.33% | Test Loss: 0.12937, Test Acc: 100.00%\n"
     ]
    }
   ],
   "source": [
    "epochs = 999\n",
    "train_losses = []\n",
    "test_losses = []\n",
    "\n",
    "for epoch in range(epochs):\n",
    "    modelOne.train()\n",
    "\n",
    "    y_logits = modelOne(X_train)\n",
    "    y_pred = torch.softmax(y_logits, dim=1).argmax(dim = 1)\n",
    "\n",
    "    loss = loss_fn(y_logits, y_train)\n",
    "    acc = accuracy_fn(y_true = y_train, y_pred = y_pred)\n",
    "\n",
    "    optimizer.zero_grad()\n",
    "\n",
    "    loss.backward()\n",
    "\n",
    "    optimizer.step()\n",
    "\n",
    "    train_losses.append(loss.item())\n",
    "    # Testing loop\n",
    "    modelOne.eval()\n",
    "    with torch.inference_mode():\n",
    "        y_logits_test = modelOne(X_test)\n",
    "        y_pred_test = torch.softmax(y_logits_test, dim=1).argmax(dim = 1)\n",
    "\n",
    "        test_loss = loss_fn(y_logits_test, y_test)\n",
    "        test_acc = accuracy_fn(y_true = y_test, y_pred = y_pred_test)\n",
    "        test_losses.append(test_loss.item())\n",
    "        \n",
    "        if(epoch % 10 == 0) :\n",
    "            print(f\"Epoch: {epoch} | Loss: {loss:.5f}, Acc: {acc:.2f}% | Test Loss: {test_loss:.5f}, Test Acc: {test_acc:.2f}%\")\n",
    "    "
   ]
  },
  {
   "cell_type": "markdown",
   "id": "46e91ce0-8f75-414d-8a9e-ff1799f615fd",
   "metadata": {},
   "source": [
    "#### Plot the loss curves"
   ]
  },
  {
   "cell_type": "code",
   "execution_count": 153,
   "id": "a5da0b4a-82a8-459e-ba4c-4d4bbe68e233",
   "metadata": {},
   "outputs": [
    {
     "data": {
      "image/png": "[encoded data removed]",
      "text/plain": [
       "<Figure size 640x480 with 1 Axes>"
      ]
     },
     "metadata": {},
     "output_type": "display_data"
    }
   ],
   "source": [
    "import matplotlib.pyplot as plt\n",
    "plt.plot(train_losses, label='Training loss')\n",
    "plt.plot(test_losses, label='Test loss')\n",
    "plt.xlabel('Epochs')\n",
    "plt.ylabel('Loss')\n",
    "plt.title('Training and Test Loss Curves')\n",
    "plt.legend()\n",
    "plt.show()"
   ]
  },
  {
   "cell_type": "code",
   "execution_count": null,
   "id": "2b528837-127f-4843-9c56-212ef64d7ae6",
   "metadata": {},
   "outputs": [],
   "source": []
  },
  {
   "cell_type": "code",
   "execution_count": null,
   "id": "ddc24064-664d-4118-95cc-41fac1e565eb",
   "metadata": {},
   "outputs": [],
   "source": []
  }
 ],
 "metadata": {
  "kernelspec": {
   "display_name": "Python 3 (ipykernel)",
   "language": "python",
   "name": "python3"
  },
  "language_info": {
   "codemirror_mode": {
    "name": "ipython",
    "version": 3
   },
   "file_extension": ".py",
   "mimetype": "text/x-python",
   "name": "python",
   "nbconvert_exporter": "python",
   "pygments_lexer": "ipython3",
   "version": "3.11.5"
  }
 },
 "nbformat": 4,
 "nbformat_minor": 5
}
