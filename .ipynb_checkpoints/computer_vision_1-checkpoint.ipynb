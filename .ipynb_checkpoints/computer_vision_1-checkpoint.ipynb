{
 "cells": [
  {
   "cell_type": "code",
   "execution_count": 1,
   "id": "6b7db4f5-b918-41a0-9d89-590648a7486d",
   "metadata": {},
   "outputs": [],
   "source": [
    "import torch\n",
    "from torch import nn\n",
    "\n",
    "import torchvision\n",
    "from torchvision import datasets\n",
    "from torchvision.transforms import ToTensor\n",
    "\n",
    "import matplotlib.pyplot as plt"
   ]
  },
  {
   "cell_type": "code",
   "execution_count": 2,
   "id": "42b693f1-f9ac-4594-93ed-f2eba8b682ca",
   "metadata": {},
   "outputs": [],
   "source": [
    "# Setup training data\n",
    "train_data = datasets.FashionMNIST(\n",
    "    root=\"data\", # where to download data to?\n",
    "    train=True, # get training data\n",
    "    download=True, # download data if it doesn't exist on disk\n",
    "    transform=ToTensor(), # images come as PIL format, we want to turn into Torch tensors\n",
    "    target_transform=None # you can transform labels as well\n",
    ")\n",
    "test_data = datasets.FashionMNIST(\n",
    "    root=\"data\", # where to download data to?\n",
    "    train=False, # get training data\n",
    "    download=True, # download data if it doesn't exist on disk\n",
    "    transform=ToTensor(), # images come as PIL format, we want to turn into Torch tensors\n",
    "    target_transform=None # you can transform labels as well\n",
    ")"
   ]
  },
  {
   "cell_type": "code",
   "execution_count": 3,
   "id": "9e74e0f5-edf2-425b-b97a-f798fa803901",
   "metadata": {},
   "outputs": [],
   "source": [
    "# image,label \n",
    "image,label = train_data[3]"
   ]
  },
  {
   "cell_type": "code",
   "execution_count": 4,
   "id": "0776e011-d8be-4de5-97d2-356923bfc388",
   "metadata": {},
   "outputs": [
    {
     "data": {
      "text/plain": [
       "torch.Size([1, 28, 28])"
      ]
     },
     "execution_count": 4,
     "metadata": {},
     "output_type": "execute_result"
    }
   ],
   "source": [
    "image.shape"
   ]
  },
  {
   "cell_type": "code",
   "execution_count": 5,
   "id": "7e1ffa04-e063-48a9-807b-d42ece6afa59",
   "metadata": {},
   "outputs": [
    {
     "data": {
      "text/plain": [
       "(60000, 10000)"
      ]
     },
     "execution_count": 5,
     "metadata": {},
     "output_type": "execute_result"
    }
   ],
   "source": [
    "len(train_data),len(test_data)"
   ]
  },
  {
   "cell_type": "code",
   "execution_count": 6,
   "id": "4af03012-465f-4cba-bbb2-d41c6962b18d",
   "metadata": {},
   "outputs": [
    {
     "data": {
      "text/plain": [
       "['T-shirt/top',\n",
       " 'Trouser',\n",
       " 'Pullover',\n",
       " 'Dress',\n",
       " 'Coat',\n",
       " 'Sandal',\n",
       " 'Shirt',\n",
       " 'Sneaker',\n",
       " 'Bag',\n",
       " 'Ankle boot']"
      ]
     },
     "execution_count": 6,
     "metadata": {},
     "output_type": "execute_result"
    }
   ],
   "source": [
    "# get classes\n",
    "class_names = train_data.classes\n",
    "class_names"
   ]
  },
  {
   "cell_type": "code",
   "execution_count": 10,
   "id": "02c52ae2-ff5e-4a25-9d40-87ecc3cb8bd8",
   "metadata": {},
   "outputs": [],
   "source": [
    "def plot_random(number):\n",
    "    image,label = train_data[number]\n",
    "    fig = plt.figure(figsize=(2, 2))\n",
    "    plt.imshow(image.squeeze(),cmap = \"gray\")\n",
    "    plt.title(class_names[label])\n",
    "    plt.show()"
   ]
  },
  {
   "cell_type": "code",
   "execution_count": 11,
   "id": "0613321d-70b1-4d94-83e0-4192a1df81cb",
   "metadata": {},
   "outputs": [
    {
     "data": {
      "image/png": "[encoded data removed]",
      "text/plain": [
       "<Figure size 200x200 with 1 Axes>"
      ]
     },
     "metadata": {},
     "output_type": "display_data"
    }
   ],
   "source": [
    "plot_random(3)"
   ]
  },
  {
   "cell_type": "code",
   "execution_count": 12,
   "id": "aca95e22-2d79-43de-a093-989a2ccba9e3",
   "metadata": {},
   "outputs": [
    {
     "data": {
      "image/png": "[encoded data removed]",
      "text/plain": [
       "<Figure size 200x200 with 1 Axes>"
      ]
     },
     "metadata": {},
     "output_type": "display_data"
    }
   ],
   "source": [
    "plot_random(6)"
   ]
  },
  {
   "cell_type": "code",
   "execution_count": 13,
   "id": "474d3b73-97ea-4817-81d6-5f7541dc3107",
   "metadata": {},
   "outputs": [
    {
     "data": {
      "image/png": "[encoded data removed]",
      "text/plain": [
       "<Figure size 200x200 with 1 Axes>"
      ]
     },
     "metadata": {},
     "output_type": "display_data"
    }
   ],
   "source": [
    "plot_random(9)"
   ]
  },
  {
   "cell_type": "markdown",
   "id": "3439e7af-c003-47c8-8c09-453833071e4d",
   "metadata": {},
   "source": [
    "#### Data Loader"
   ]
  },
  {
   "cell_type": "code",
   "execution_count": 14,
   "id": "f29ed83c-4dc0-45df-8e5b-004ae57718e6",
   "metadata": {},
   "outputs": [],
   "source": [
    "from torch.utils.data import DataLoader\n",
    "\n",
    "BATCH_SIZE = 32\n",
    "\n",
    "train_dataloader = DataLoader(train_data, # dataset to turn into iterable\n",
    "    batch_size=BATCH_SIZE, # how many samples per batch? \n",
    "    shuffle=True # shuffle data every epoch?\n",
    ")\n",
    "\n",
    "test_dataloader = DataLoader(test_data, # dataset to turn into iterable\n",
    "    batch_size=BATCH_SIZE, # how many samples per batch? \n",
    "    shuffle=True # shuffle data every epoch?\n",
    ")"
   ]
  },
  {
   "cell_type": "code",
   "execution_count": 15,
   "id": "db723481-9783-4d40-bae0-c72be8fbf44c",
   "metadata": {},
   "outputs": [
    {
     "name": "stdout",
     "output_type": "stream",
     "text": [
      "DatLoaders <torch.utils.data.dataloader.DataLoader object at 0x16c36a050> <torch.utils.data.dataloader.DataLoader object at 0x143455890>\n",
      "Length train dataloader 1875\n",
      "Length test dataloader 313\n"
     ]
    }
   ],
   "source": [
    "print(f\"DatLoaders {train_dataloader} {test_dataloader}\")\n",
    "print(f\"Length train dataloader {len(train_dataloader)}\")\n",
    "print(f\"Length test dataloader {len(test_dataloader)}\")"
   ]
  },
  {
   "cell_type": "code",
   "execution_count": 16,
   "id": "d82138f4-bf7c-49a8-bc16-384ca9ff76c9",
   "metadata": {},
   "outputs": [
    {
     "data": {
      "text/plain": [
       "(torch.Size([32, 1, 28, 28]), torch.Size([32]))"
      ]
     },
     "execution_count": 16,
     "metadata": {},
     "output_type": "execute_result"
    }
   ],
   "source": [
    "# Check out what's inside the training dataloader\n",
    "train_features_batch, train_labels_batch = next(iter(train_dataloader))\n",
    "train_features_batch.shape, train_labels_batch.shape"
   ]
  },
  {
   "cell_type": "code",
   "execution_count": 17,
   "id": "5346d687-8f01-4365-818e-64e766c2f6bc",
   "metadata": {},
   "outputs": [
    {
     "data": {
      "text/plain": [
       "torch.Size([1, 784])"
      ]
     },
     "execution_count": 17,
     "metadata": {},
     "output_type": "execute_result"
    }
   ],
   "source": [
    "# Flatten model\n",
    "flatten = nn.Flatten()\n",
    "img = train_features_batch[0]\n",
    "img_flatten = flatten(img)\n",
    "img_flatten.shape"
   ]
  },
  {
   "cell_type": "markdown",
   "id": "11c09d1e-a169-4da5-bb4a-4814e1650e67",
   "metadata": {},
   "source": [
    "#### Create a baseline model"
   ]
  },
  {
   "cell_type": "code",
   "execution_count": 18,
   "id": "4d3a40a5-c7df-4762-b0dc-75fdf1e2629b",
   "metadata": {},
   "outputs": [],
   "source": [
    "class FashionMnsitV1(nn.Module):\n",
    "    def __init__(self,input_shape:int, hidden_units:int, output_shape:int):\n",
    "        super().__init__()\n",
    "        \n",
    "        self.layer_stack = nn.Sequential(\n",
    "            nn.Flatten(),\n",
    "            nn.Linear(in_features = input_shape, out_features = hidden_units),\n",
    "            nn.Linear(in_features = hidden_units, out_features = output_shape)\n",
    "        )\n",
    "    def forward(self,x):\n",
    "        return self.layer_stack(x)"
   ]
  },
  {
   "cell_type": "code",
   "execution_count": 19,
   "id": "12891e1e-884c-447b-856c-39060ef2e4ee",
   "metadata": {},
   "outputs": [
    {
     "data": {
      "text/plain": [
       "FashionMnsitV1(\n",
       "  (layer_stack): Sequential(\n",
       "    (0): Flatten(start_dim=1, end_dim=-1)\n",
       "    (1): Linear(in_features=784, out_features=10, bias=True)\n",
       "    (2): Linear(in_features=10, out_features=10, bias=True)\n",
       "  )\n",
       ")"
      ]
     },
     "execution_count": 19,
     "metadata": {},
     "output_type": "execute_result"
    }
   ],
   "source": [
    "torch.manual_seed(42)\n",
    "model_zero = FashionMnsitV1(input_shape = img_flatten.shape[1],hidden_units = 10,output_shape = len(class_names))\n",
    "model_zero"
   ]
  },
  {
   "cell_type": "code",
   "execution_count": 20,
   "id": "477bed6a-accc-4026-b4db-412940dbc1f0",
   "metadata": {},
   "outputs": [],
   "source": [
    "def accuracy_fn(y_true, y_pred):\n",
    "    correct = torch.eq(y_true, y_pred).sum().item() # torch.eq() calculates where two tensors are equal\n",
    "    acc = (correct / len(y_pred)) * 100 \n",
    "    return acc"
   ]
  },
  {
   "cell_type": "code",
   "execution_count": 21,
   "id": "004629dc-22c0-4dc8-b28c-ac1834b6bab5",
   "metadata": {},
   "outputs": [],
   "source": [
    "loss_fn = nn.CrossEntropyLoss() # this is also called \"criterion\"/\"cost function\" in some places\n",
    "optimizer = torch.optim.SGD(params=model_zero.parameters(), lr=0.1)\n"
   ]
  },
  {
   "cell_type": "markdown",
   "id": "91870c1c-0010-48d8-a7af-ac2ca18ed0e5",
   "metadata": {},
   "source": [
    "#### First baseline model"
   ]
  },
  {
   "cell_type": "code",
   "execution_count": 22,
   "id": "df1fc1e1-d302-495b-8a97-4787bad97a77",
   "metadata": {},
   "outputs": [
    {
     "name": "stdout",
     "output_type": "stream",
     "text": [
      "Looked at 0/60000 samples\n",
      "Looked at 12800/60000 samples\n",
      "Looked at 25600/60000 samples\n",
      "Looked at 38400/60000 samples\n",
      "Looked at 51200/60000 samples\n",
      "\n",
      "Train loss: 0.58804 | Test loss: 0.52571, Test acc: 81.42%\n",
      "\n",
      "Looked at 0/60000 samples\n",
      "Looked at 12800/60000 samples\n",
      "Looked at 25600/60000 samples\n",
      "Looked at 38400/60000 samples\n",
      "Looked at 51200/60000 samples\n",
      "\n",
      "Train loss: 0.47573 | Test loss: 0.52215, Test acc: 82.22%\n",
      "\n",
      "Looked at 0/60000 samples\n",
      "Looked at 12800/60000 samples\n",
      "Looked at 25600/60000 samples\n",
      "Looked at 38400/60000 samples\n",
      "Looked at 51200/60000 samples\n",
      "\n",
      "Train loss: 0.45558 | Test loss: 0.46712, Test acc: 83.50%\n",
      "\n"
     ]
    }
   ],
   "source": [
    "epochs = 3\n",
    "\n",
    "for epoch in range(epochs):\n",
    "    # Training\n",
    "    train_loss = 0\n",
    "    for batch, (X,y) in enumerate(train_dataloader):\n",
    "        model_zero.train()\n",
    "        y_logits = model_zero(X)\n",
    "        y_pred = torch.softmax(y_logits, dim=1).argmax(dim = 1)\n",
    "\n",
    "        loss = loss_fn(y_logits,y)\n",
    "        train_loss+= loss\n",
    "\n",
    "        optimizer.zero_grad()\n",
    "\n",
    "        loss.backward()\n",
    "\n",
    "        optimizer.step()\n",
    "        \n",
    "        if batch % 400 == 0:\n",
    "                print(f\"Looked at {batch * len(X)}/{len(train_dataloader.dataset)} samples\")\n",
    "        \n",
    "    train_loss /= len(train_dataloader)\n",
    "    # Testing\n",
    "    test_loss,test_acc = 0,0\n",
    "\n",
    "    model_zero.eval()\n",
    "    with torch.inference_mode():\n",
    "        for X, y in test_dataloader:\n",
    "            test_logits = model_zero(X)\n",
    "            test_pred = torch.softmax(test_logits, dim=1).argmax(dim = 1)\n",
    "\n",
    "            test_acc += accuracy_fn(y_true = y,y_pred = test_pred)\n",
    "            test_loss += loss_fn(test_logits,y)\n",
    "            \n",
    "        test_loss /= len(test_dataloader)  \n",
    "        test_acc /= len(test_dataloader)  \n",
    "        print(f\"\\nTrain loss: {train_loss:.5f} | Test loss: {test_loss:.5f}, Test acc: {test_acc:.2f}%\\n\")\n",
    "        "
   ]
  },
  {
   "cell_type": "markdown",
   "id": "8bde753d-dfab-494b-a286-a0d50da28825",
   "metadata": {},
   "source": [
    "#### Tiny VGG"
   ]
  },
  {
   "cell_type": "code",
   "execution_count": 23,
   "id": "0064bd16-a1b1-4bfe-95a5-f5c878ea1eae",
   "metadata": {},
   "outputs": [],
   "source": [
    "class TinyVgg(nn.Module):\n",
    "    def __init__(self,input_shape:int,output_shape:int, hidden_units = 10):\n",
    "        super().__init__()\n",
    "        self.block_1 = nn.Sequential(\n",
    "            nn.Conv2d(in_channels = input_shape,out_channels = hidden_units,kernel_size = 3,padding = 1),\n",
    "            nn.ReLU(),\n",
    "            nn.Conv2d(in_channels = hidden_units,out_channels = hidden_units,kernel_size = 3,padding = 1),\n",
    "            nn.ReLU(),\n",
    "            nn.MaxPool2d(kernel_size = 2, stride = 2)\n",
    "        )\n",
    "        self.block_2 = nn.Sequential(\n",
    "            nn.Conv2d(in_channels = hidden_units,out_channels = hidden_units,kernel_size = 3,padding = 1),\n",
    "            nn.ReLU(),\n",
    "            nn.Conv2d(in_channels = hidden_units,out_channels = hidden_units,kernel_size = 3,padding = 1),\n",
    "            nn.ReLU(),\n",
    "            nn.MaxPool2d(kernel_size = 2)\n",
    "        )\n",
    "        self.classifier = nn.Sequential(\n",
    "             nn.Flatten(),\n",
    "             nn.Linear(in_features = hidden_units * 7 * 7, out_features = output_shape)\n",
    "        )\n",
    "    def forward(self, x: torch.Tensor):\n",
    "        x = self.block_1(x)\n",
    "        x = self.block_2(x)\n",
    "        x = self.classifier(x)\n",
    "        return x\n"
   ]
  },
  {
   "cell_type": "code",
   "execution_count": 24,
   "id": "6079f280-5523-42ba-9180-66e46df04715",
   "metadata": {},
   "outputs": [
    {
     "data": {
      "text/plain": [
       "TinyVgg(\n",
       "  (block_1): Sequential(\n",
       "    (0): Conv2d(1, 10, kernel_size=(3, 3), stride=(1, 1), padding=(1, 1))\n",
       "    (1): ReLU()\n",
       "    (2): Conv2d(10, 10, kernel_size=(3, 3), stride=(1, 1), padding=(1, 1))\n",
       "    (3): ReLU()\n",
       "    (4): MaxPool2d(kernel_size=2, stride=2, padding=0, dilation=1, ceil_mode=False)\n",
       "  )\n",
       "  (block_2): Sequential(\n",
       "    (0): Conv2d(10, 10, kernel_size=(3, 3), stride=(1, 1), padding=(1, 1))\n",
       "    (1): ReLU()\n",
       "    (2): Conv2d(10, 10, kernel_size=(3, 3), stride=(1, 1), padding=(1, 1))\n",
       "    (3): ReLU()\n",
       "    (4): MaxPool2d(kernel_size=2, stride=2, padding=0, dilation=1, ceil_mode=False)\n",
       "  )\n",
       "  (classifier): Sequential(\n",
       "    (0): Flatten(start_dim=1, end_dim=-1)\n",
       "    (1): Linear(in_features=490, out_features=10, bias=True)\n",
       "  )\n",
       ")"
      ]
     },
     "execution_count": 24,
     "metadata": {},
     "output_type": "execute_result"
    }
   ],
   "source": [
    "modelTwo = TinyVgg(input_shape = 1, hidden_units = 10, output_shape = len(class_names))\n",
    "modelTwo"
   ]
  },
  {
   "cell_type": "code",
   "execution_count": null,
   "id": "dc5c66f6-e438-42a0-a2e8-fb59557d823b",
   "metadata": {},
   "outputs": [],
   "source": [
    "modelTwo = TinyVgg2(input_shape = 1, hidden_units = 10, output_shape = len(class_names))\n",
    "modelTwo"
   ]
  },
  {
   "cell_type": "code",
   "execution_count": 25,
   "id": "49d9cd62-deac-4dea-a1bd-e390a30092c6",
   "metadata": {},
   "outputs": [],
   "source": [
    "# Loss function and Optimizer \n",
    "criteria = nn.CrossEntropyLoss()\n",
    "optimizer = torch.optim.SGD(params=modelTwo.parameters(), \n",
    "                             lr=0.1)"
   ]
  },
  {
   "cell_type": "code",
   "execution_count": 26,
   "id": "82628c19-14ef-4b87-8657-1092d6fe0a0c",
   "metadata": {},
   "outputs": [],
   "source": [
    "def train_step(model: torch.nn.Module,\n",
    "               data_loader: torch.utils.data.DataLoader,\n",
    "               criteria: torch.nn.Module,\n",
    "               optimizer: torch.optim.Optimizer,\n",
    "               accuracy_fn):\n",
    "    train_loss, train_acc = 0, 0\n",
    "    for batch, (X, y) in enumerate(data_loader):\n",
    "        # 1. Forward pass\n",
    "        y_pred = model(X)\n",
    "        loss = criteria(y_pred, y)\n",
    "        # 2. Calculate loss\n",
    "        train_loss += criteria(y_pred, y)\n",
    "        train_acc += accuracy_fn(y_true=y,\n",
    "                                 y_pred=y_pred.argmax(dim=1)) # Go from logits -> pred labels\n",
    "        # 3. Optimizer zero grad\n",
    "        optimizer.zero_grad()\n",
    "\n",
    "        # 4. Loss backward\n",
    "        loss.backward()\n",
    "\n",
    "        # 5. Optimizer step\n",
    "        optimizer.step()\n",
    "\n",
    "    # Calculate loss and accuracy per epoch and print out what's happening\n",
    "    train_loss /= len(data_loader)\n",
    "    train_acc /= len(data_loader)\n",
    "    print(f\"Train loss: {train_loss:.5f} | Train accuracy: {train_acc:.2f}%\")"
   ]
  },
  {
   "cell_type": "code",
   "execution_count": 27,
   "id": "35568c20-45e2-493e-bc32-59690ce1de5e",
   "metadata": {},
   "outputs": [],
   "source": [
    "def test_step(data_loader: torch.utils.data.DataLoader,\n",
    "              model: torch.nn.Module,\n",
    "              criteria: torch.nn.Module,\n",
    "              accuracy_fn):\n",
    "    test_loss, test_acc = 0, 0\n",
    "    model.eval() # put model in eval mode\n",
    "    # Turn on inference context manager\n",
    "    with torch.inference_mode(): \n",
    "        for X, y in data_loader:\n",
    "            # 1. Forward pass\n",
    "            test_pred = model(X)\n",
    "            \n",
    "            # 2. Calculate loss and accuracy\n",
    "            test_loss += criteria(test_pred, y)\n",
    "            test_acc += accuracy_fn(y_true=y,\n",
    "                y_pred=test_pred.argmax(dim=1) # Go from logits -> pred labels\n",
    "            )\n",
    "        # Adjust metrics and print out\n",
    "        test_loss /= len(data_loader)\n",
    "        test_acc /= len(data_loader)\n",
    "        print(f\"Test loss: {test_loss:.5f} | Test accuracy: {test_acc:.2f}%\\n\")"
   ]
  },
  {
   "cell_type": "code",
   "execution_count": null,
   "id": "77ac4642-5993-47e9-b3f9-8f63e867e97c",
   "metadata": {},
   "outputs": [
    {
     "name": "stderr",
     "output_type": "stream",
     "text": [
      "  0%|                                                     | 0/3 [00:00<?, ?it/s]"
     ]
    },
    {
     "name": "stdout",
     "output_type": "stream",
     "text": [
      "Epoch: 0\n",
      "---------\n"
     ]
    }
   ],
   "source": [
    "from tqdm import tqdm\n",
    "epochs = 3\n",
    "for epoch in tqdm(range(epochs)):\n",
    "    print(f\"Epoch: {epoch}\\n---------\")\n",
    "    train_step(data_loader=train_dataloader, \n",
    "        model=modelTwo, \n",
    "        criteria=criteria,\n",
    "        optimizer=optimizer,\n",
    "        accuracy_fn=accuracy_fn\n",
    "    )\n",
    "    test_step(data_loader=test_dataloader,\n",
    "        model=modelTwo,\n",
    "        criteria=criteria,\n",
    "        accuracy_fn=accuracy_fn)"
   ]
  },
  {
   "cell_type": "code",
   "execution_count": null,
   "id": "b60286a8-3b80-499e-b454-d4a5c65f84f9",
   "metadata": {},
   "outputs": [],
   "source": []
  }
 ],
 "metadata": {
  "kernelspec": {
   "display_name": "Python 3 (ipykernel)",
   "language": "python",
   "name": "python3"
  },
  "language_info": {
   "codemirror_mode": {
    "name": "ipython",
    "version": 3
   },
   "file_extension": ".py",
   "mimetype": "text/x-python",
   "name": "python",
   "nbconvert_exporter": "python",
   "pygments_lexer": "ipython3",
   "version": "3.11.5"
  }
 },
 "nbformat": 4,
 "nbformat_minor": 5
}
