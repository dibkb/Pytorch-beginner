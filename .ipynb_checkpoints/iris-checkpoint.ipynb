{
 "cells": [
  {
   "cell_type": "markdown",
   "id": "f0b81924-6963-4b0c-a691-8e1cd80475c4",
   "metadata": {},
   "source": [
    "#### Load the dataset\n"
   ]
  },
  {
   "cell_type": "code",
   "execution_count": 3,
   "id": "5a2b519c-abc6-4b71-a4f2-c0b907cd738e",
   "metadata": {},
   "outputs": [],
   "source": [
    "from sklearn.datasets import load_iris\n",
    "data = load_iris()"
   ]
  },
  {
   "cell_type": "code",
   "execution_count": 4,
   "id": "b9b3b5be-c8ed-46c2-bc1a-f8dd7ac652bb",
   "metadata": {},
   "outputs": [],
   "source": [
    "import pandas as pd\n",
    "df = pd.DataFrame({data['feature_names'][0]: data['data'][:,0],\n",
    "    data['feature_names'][1]: data['data'][:,1],\n",
    "    data['feature_names'][2]: data['data'][:,2],\n",
    "    data['feature_names'][3]: data['data'][:,3],\n",
    "    \"label\": data['target']\n",
    "})"
   ]
  },
  {
   "cell_type": "code",
   "execution_count": 5,
   "id": "f0cbcf9b-86b9-4530-9211-1f1dd5f44e14",
   "metadata": {},
   "outputs": [
    {
     "data": {
      "text/html": [
       "<div>\n",
       "<style scoped>\n",
       "    .dataframe tbody tr th:only-of-type {\n",
       "        vertical-align: middle;\n",
       "    }\n",
       "\n",
       "    .dataframe tbody tr th {\n",
       "        vertical-align: top;\n",
       "    }\n",
       "\n",
       "    .dataframe thead th {\n",
       "        text-align: right;\n",
       "    }\n",
       "</style>\n",
       "<table border=\"1\" class=\"dataframe\">\n",
       "  <thead>\n",
       "    <tr style=\"text-align: right;\">\n",
       "      <th></th>\n",
       "      <th>sepal length (cm)</th>\n",
       "      <th>sepal width (cm)</th>\n",
       "      <th>petal length (cm)</th>\n",
       "      <th>petal width (cm)</th>\n",
       "      <th>label</th>\n",
       "    </tr>\n",
       "  </thead>\n",
       "  <tbody>\n",
       "    <tr>\n",
       "      <th>0</th>\n",
       "      <td>5.1</td>\n",
       "      <td>3.5</td>\n",
       "      <td>1.4</td>\n",
       "      <td>0.2</td>\n",
       "      <td>0</td>\n",
       "    </tr>\n",
       "    <tr>\n",
       "      <th>1</th>\n",
       "      <td>4.9</td>\n",
       "      <td>3.0</td>\n",
       "      <td>1.4</td>\n",
       "      <td>0.2</td>\n",
       "      <td>0</td>\n",
       "    </tr>\n",
       "    <tr>\n",
       "      <th>2</th>\n",
       "      <td>4.7</td>\n",
       "      <td>3.2</td>\n",
       "      <td>1.3</td>\n",
       "      <td>0.2</td>\n",
       "      <td>0</td>\n",
       "    </tr>\n",
       "    <tr>\n",
       "      <th>3</th>\n",
       "      <td>4.6</td>\n",
       "      <td>3.1</td>\n",
       "      <td>1.5</td>\n",
       "      <td>0.2</td>\n",
       "      <td>0</td>\n",
       "    </tr>\n",
       "    <tr>\n",
       "      <th>4</th>\n",
       "      <td>5.0</td>\n",
       "      <td>3.6</td>\n",
       "      <td>1.4</td>\n",
       "      <td>0.2</td>\n",
       "      <td>0</td>\n",
       "    </tr>\n",
       "  </tbody>\n",
       "</table>\n",
       "</div>"
      ],
      "text/plain": [
       "   sepal length (cm)  sepal width (cm)  petal length (cm)  petal width (cm)  \\\n",
       "0                5.1               3.5                1.4               0.2   \n",
       "1                4.9               3.0                1.4               0.2   \n",
       "2                4.7               3.2                1.3               0.2   \n",
       "3                4.6               3.1                1.5               0.2   \n",
       "4                5.0               3.6                1.4               0.2   \n",
       "\n",
       "   label  \n",
       "0      0  \n",
       "1      0  \n",
       "2      0  \n",
       "3      0  \n",
       "4      0  "
      ]
     },
     "execution_count": 5,
     "metadata": {},
     "output_type": "execute_result"
    }
   ],
   "source": [
    "# Checking the dataframe\n",
    "df.head()"
   ]
  },
  {
   "cell_type": "code",
   "execution_count": 6,
   "id": "ee55bb7b-47e7-44cb-985b-e1b113ab1a46",
   "metadata": {},
   "outputs": [
    {
     "data": {
      "text/plain": [
       "label\n",
       "0    50\n",
       "1    50\n",
       "2    50\n",
       "Name: count, dtype: int64"
      ]
     },
     "execution_count": 6,
     "metadata": {},
     "output_type": "execute_result"
    }
   ],
   "source": [
    "# check the count of the labels\n",
    "df['label'].value_counts()"
   ]
  },
  {
   "cell_type": "code",
   "execution_count": 45,
   "id": "fef2e96a-74ff-4070-8e14-06665a91928c",
   "metadata": {},
   "outputs": [],
   "source": [
    "X = data['data']\n",
    "y = data['target']"
   ]
  },
  {
   "cell_type": "code",
   "execution_count": 46,
   "id": "dd15471b-322e-48ab-acb1-37db0ce40766",
   "metadata": {},
   "outputs": [],
   "source": [
    "import torch"
   ]
  },
  {
   "cell_type": "code",
   "execution_count": 47,
   "id": "1ced8f07-f913-441e-9644-0f0c491793f4",
   "metadata": {},
   "outputs": [],
   "source": [
    "# Turing data to tensors\n",
    "X = torch.from_numpy(X).type(torch.float)\n",
    "y = torch.from_numpy(y).type(torch.LongTensor)"
   ]
  },
  {
   "cell_type": "code",
   "execution_count": 48,
   "id": "a4582d64-c2ce-409c-be26-9f6ed3a1df98",
   "metadata": {},
   "outputs": [
    {
     "data": {
      "text/plain": [
       "(torch.float32, torch.int64)"
      ]
     },
     "execution_count": 48,
     "metadata": {},
     "output_type": "execute_result"
    }
   ],
   "source": [
    "X.dtype, y.dtype"
   ]
  },
  {
   "cell_type": "code",
   "execution_count": 49,
   "id": "462f7091-757b-4ce7-bcf2-c7065f66e511",
   "metadata": {},
   "outputs": [
    {
     "data": {
      "text/plain": [
       "(torch.Size([150, 4]), torch.Size([150]))"
      ]
     },
     "execution_count": 49,
     "metadata": {},
     "output_type": "execute_result"
    }
   ],
   "source": [
    "X.shape,y.shape"
   ]
  },
  {
   "cell_type": "markdown",
   "id": "aa0ac140-405e-47fb-accd-d4edeac6674a",
   "metadata": {},
   "source": [
    "#### Spliting to training and testing set"
   ]
  },
  {
   "cell_type": "code",
   "execution_count": 60,
   "id": "691c5f18-c95a-4daa-bc3b-79d03a4e5287",
   "metadata": {},
   "outputs": [],
   "source": [
    "from sklearn.model_selection import train_test_split\n",
    "X_train, X_test, y_train, y_test = train_test_split(X,y,\n",
    "    test_size=0.2,\n",
    "    random_state=42\n",
    ")"
   ]
  },
  {
   "cell_type": "code",
   "execution_count": 93,
   "id": "5fa185dc-4a22-4201-b2ec-bab6bff06835",
   "metadata": {},
   "outputs": [],
   "source": [
    "from torch import nn\n",
    "class IrisClassifierV1(nn.Module):\n",
    "    def __init__(self,input_features,output_features,hidden_units = 9):\n",
    "        super().__init__()\n",
    "        \n",
    "        self.linear_stack_layer = nn.Sequential(\n",
    "            nn.Linear(in_features = input_features, out_features = hidden_units),\n",
    "            nn.ReLU(),\n",
    "            nn.Linear(in_features = hidden_units, out_features = hidden_units),\n",
    "            # nn.ReLU(), \n",
    "            nn.Linear(in_features = hidden_units, out_features = output_features),\n",
    "        )\n",
    "    def forward(self,x):\n",
    "         return self.linear_stack_layer(x)"
   ]
  },
  {
   "cell_type": "code",
   "execution_count": 94,
   "id": "15a27256-3dcc-4df4-adfa-e2514d1917f4",
   "metadata": {},
   "outputs": [
    {
     "data": {
      "text/plain": [
       "IrisClassifierV1(\n",
       "  (linear_stack_layer): Sequential(\n",
       "    (0): Linear(in_features=4, out_features=9, bias=True)\n",
       "    (1): ReLU()\n",
       "    (2): Linear(in_features=9, out_features=9, bias=True)\n",
       "    (3): Linear(in_features=9, out_features=3, bias=True)\n",
       "  )\n",
       ")"
      ]
     },
     "execution_count": 94,
     "metadata": {},
     "output_type": "execute_result"
    }
   ],
   "source": [
    "modelOne = IrisClassifierV1(input_features = 4,output_features = 3)\n",
    "modelOne"
   ]
  },
  {
   "cell_type": "code",
   "execution_count": 95,
   "id": "2f147730-ecfe-4675-adcd-fa4636b6c2ea",
   "metadata": {},
   "outputs": [],
   "source": [
    "loss_fn = nn.CrossEntropyLoss()\n",
    "optimizer = torch.optim.SGD(modelOne.parameters(), \n",
    "                            lr=0.01)"
   ]
  },
  {
   "cell_type": "code",
   "execution_count": 96,
   "id": "0a95fd1b-26a0-4db8-bd26-d07a7473eb01",
   "metadata": {},
   "outputs": [],
   "source": [
    "def accuracy_fn(y_true, y_pred):\n",
    "    correct = torch.eq(y_true, y_pred).sum().item() # torch.eq() calculates where two tensors are equal\n",
    "    acc = (correct / len(y_pred)) * 100 \n",
    "    return acc"
   ]
  },
  {
   "cell_type": "code",
   "execution_count": 97,
   "id": "e0c1778a-a351-416b-a132-bc83e72ba80c",
   "metadata": {},
   "outputs": [
    {
     "data": {
      "text/plain": [
       "torch.Size([3])"
      ]
     },
     "execution_count": 97,
     "metadata": {},
     "output_type": "execute_result"
    }
   ],
   "source": [
    "# Perform a single forward pass on the data (we'll need to put it to the target device for it to work)\n",
    "modelOne(X_train)[:5][0].shape"
   ]
  },
  {
   "cell_type": "raw",
   "id": "1130d93d-c6e3-43a7-b687-3dadadaf8980",
   "metadata": {},
   "source": [
    "logits -> prediction probabilities -> prediction labels"
   ]
  },
  {
   "cell_type": "code",
   "execution_count": 98,
   "id": "0f70f312-a808-4aa6-9153-48ad27cf6391",
   "metadata": {},
   "outputs": [],
   "source": [
    "y_logits = modelOne(X_test)\n",
    "y_pred_probs = torch.softmax(y_logits, dim=1) "
   ]
  },
  {
   "cell_type": "code",
   "execution_count": 99,
   "id": "f857d432-5bd0-41d3-ba98-daac3cfe62d7",
   "metadata": {},
   "outputs": [
    {
     "name": "stdout",
     "output_type": "stream",
     "text": [
      "tensor([0.2809, 0.0489, 0.6702], grad_fn=<SelectBackward0>)\n",
      "tensor(2)\n"
     ]
    }
   ],
   "source": [
    "# Which class does the model think is *most* likely at the index 0 sample?\n",
    "print(y_pred_probs[0])\n",
    "print(torch.argmax(y_pred_probs[0]))"
   ]
  },
  {
   "cell_type": "markdown",
   "id": "4f07ebb0-d99b-450c-ad5c-7309fae19e22",
   "metadata": {},
   "source": [
    "#### Training Loop"
   ]
  },
  {
   "cell_type": "code",
   "execution_count": 100,
   "id": "0e16ef57-d3e1-4a16-9a5d-09885cf6a95b",
   "metadata": {},
   "outputs": [
    {
     "name": "stdout",
     "output_type": "stream",
     "text": [
      "Epoch: 0 | Loss: 1.52619, Acc: 32.50% | Test Loss: 1.36844, Test Acc: 36.67%\n",
      "Epoch: 10 | Loss: 1.14710, Acc: 32.50% | Test Loss: 1.08786, Test Acc: 36.67%\n",
      "Epoch: 20 | Loss: 1.03121, Acc: 35.00% | Test Loss: 1.00333, Test Acc: 40.00%\n",
      "Epoch: 30 | Loss: 0.97273, Acc: 65.00% | Test Loss: 0.95557, Test Acc: 70.00%\n",
      "Epoch: 40 | Loss: 0.92497, Acc: 65.83% | Test Loss: 0.91084, Test Acc: 70.00%\n",
      "Epoch: 50 | Loss: 0.87646, Acc: 67.50% | Test Loss: 0.86409, Test Acc: 70.00%\n",
      "Epoch: 60 | Loss: 0.83027, Acc: 69.17% | Test Loss: 0.81863, Test Acc: 70.00%\n",
      "Epoch: 70 | Loss: 0.78753, Acc: 72.50% | Test Loss: 0.77580, Test Acc: 70.00%\n",
      "Epoch: 80 | Loss: 0.74622, Acc: 73.33% | Test Loss: 0.73442, Test Acc: 70.00%\n",
      "Epoch: 90 | Loss: 0.70707, Acc: 75.83% | Test Loss: 0.69535, Test Acc: 76.67%\n",
      "Epoch: 100 | Loss: 0.67050, Acc: 77.50% | Test Loss: 0.65896, Test Acc: 80.00%\n",
      "Epoch: 110 | Loss: 0.63688, Acc: 80.00% | Test Loss: 0.62562, Test Acc: 83.33%\n",
      "Epoch: 120 | Loss: 0.60638, Acc: 81.67% | Test Loss: 0.59549, Test Acc: 83.33%\n",
      "Epoch: 130 | Loss: 0.57897, Acc: 81.67% | Test Loss: 0.56849, Test Acc: 83.33%\n",
      "Epoch: 140 | Loss: 0.55446, Acc: 85.00% | Test Loss: 0.54442, Test Acc: 83.33%\n",
      "Epoch: 150 | Loss: 0.53255, Acc: 88.33% | Test Loss: 0.52300, Test Acc: 83.33%\n",
      "Epoch: 160 | Loss: 0.51293, Acc: 88.33% | Test Loss: 0.50386, Test Acc: 83.33%\n",
      "Epoch: 170 | Loss: 0.49526, Acc: 89.17% | Test Loss: 0.48669, Test Acc: 86.67%\n",
      "Epoch: 180 | Loss: 0.47924, Acc: 90.83% | Test Loss: 0.47116, Test Acc: 90.00%\n",
      "Epoch: 190 | Loss: 0.46461, Acc: 91.67% | Test Loss: 0.45702, Test Acc: 90.00%\n",
      "Epoch: 200 | Loss: 0.45111, Acc: 91.67% | Test Loss: 0.44403, Test Acc: 90.00%\n",
      "Epoch: 210 | Loss: 0.43857, Acc: 93.33% | Test Loss: 0.43203, Test Acc: 93.33%\n",
      "Epoch: 220 | Loss: 0.42680, Acc: 94.17% | Test Loss: 0.42081, Test Acc: 93.33%\n",
      "Epoch: 230 | Loss: 0.41569, Acc: 94.17% | Test Loss: 0.41025, Test Acc: 93.33%\n",
      "Epoch: 240 | Loss: 0.40511, Acc: 94.17% | Test Loss: 0.40023, Test Acc: 93.33%\n",
      "Epoch: 250 | Loss: 0.39497, Acc: 95.00% | Test Loss: 0.39069, Test Acc: 96.67%\n",
      "Epoch: 260 | Loss: 0.38522, Acc: 95.00% | Test Loss: 0.38158, Test Acc: 96.67%\n",
      "Epoch: 270 | Loss: 0.37579, Acc: 95.00% | Test Loss: 0.37280, Test Acc: 96.67%\n",
      "Epoch: 280 | Loss: 0.36664, Acc: 95.00% | Test Loss: 0.36431, Test Acc: 96.67%\n",
      "Epoch: 290 | Loss: 0.35773, Acc: 95.83% | Test Loss: 0.35609, Test Acc: 96.67%\n",
      "Epoch: 300 | Loss: 0.34904, Acc: 95.83% | Test Loss: 0.34810, Test Acc: 96.67%\n",
      "Epoch: 310 | Loss: 0.34054, Acc: 96.67% | Test Loss: 0.34033, Test Acc: 96.67%\n",
      "Epoch: 320 | Loss: 0.33222, Acc: 96.67% | Test Loss: 0.33275, Test Acc: 96.67%\n",
      "Epoch: 330 | Loss: 0.32408, Acc: 96.67% | Test Loss: 0.32535, Test Acc: 96.67%\n",
      "Epoch: 340 | Loss: 0.31611, Acc: 96.67% | Test Loss: 0.31813, Test Acc: 96.67%\n",
      "Epoch: 350 | Loss: 0.30830, Acc: 96.67% | Test Loss: 0.31108, Test Acc: 96.67%\n",
      "Epoch: 360 | Loss: 0.30066, Acc: 96.67% | Test Loss: 0.30420, Test Acc: 96.67%\n",
      "Epoch: 370 | Loss: 0.29318, Acc: 96.67% | Test Loss: 0.29751, Test Acc: 96.67%\n",
      "Epoch: 380 | Loss: 0.28588, Acc: 96.67% | Test Loss: 0.29100, Test Acc: 96.67%\n",
      "Epoch: 390 | Loss: 0.27875, Acc: 96.67% | Test Loss: 0.28467, Test Acc: 96.67%\n",
      "Epoch: 400 | Loss: 0.27180, Acc: 96.67% | Test Loss: 0.27851, Test Acc: 96.67%\n",
      "Epoch: 410 | Loss: 0.26503, Acc: 96.67% | Test Loss: 0.27253, Test Acc: 96.67%\n",
      "Epoch: 420 | Loss: 0.25845, Acc: 96.67% | Test Loss: 0.26673, Test Acc: 96.67%\n",
      "Epoch: 430 | Loss: 0.25205, Acc: 96.67% | Test Loss: 0.26110, Test Acc: 100.00%\n",
      "Epoch: 440 | Loss: 0.24584, Acc: 96.67% | Test Loss: 0.25565, Test Acc: 100.00%\n",
      "Epoch: 450 | Loss: 0.23982, Acc: 96.67% | Test Loss: 0.25038, Test Acc: 100.00%\n",
      "Epoch: 460 | Loss: 0.23399, Acc: 96.67% | Test Loss: 0.24529, Test Acc: 100.00%\n",
      "Epoch: 470 | Loss: 0.22835, Acc: 96.67% | Test Loss: 0.24037, Test Acc: 100.00%\n",
      "Epoch: 480 | Loss: 0.22290, Acc: 96.67% | Test Loss: 0.23562, Test Acc: 100.00%\n",
      "Epoch: 490 | Loss: 0.21765, Acc: 97.50% | Test Loss: 0.23105, Test Acc: 100.00%\n",
      "Epoch: 500 | Loss: 0.21258, Acc: 97.50% | Test Loss: 0.22665, Test Acc: 100.00%\n",
      "Epoch: 510 | Loss: 0.20769, Acc: 97.50% | Test Loss: 0.22240, Test Acc: 100.00%\n",
      "Epoch: 520 | Loss: 0.20299, Acc: 97.50% | Test Loss: 0.21832, Test Acc: 100.00%\n",
      "Epoch: 530 | Loss: 0.19846, Acc: 97.50% | Test Loss: 0.21439, Test Acc: 100.00%\n",
      "Epoch: 540 | Loss: 0.19410, Acc: 97.50% | Test Loss: 0.21061, Test Acc: 100.00%\n",
      "Epoch: 550 | Loss: 0.18992, Acc: 97.50% | Test Loss: 0.20698, Test Acc: 100.00%\n",
      "Epoch: 560 | Loss: 0.18589, Acc: 97.50% | Test Loss: 0.20348, Test Acc: 100.00%\n",
      "Epoch: 570 | Loss: 0.18203, Acc: 97.50% | Test Loss: 0.20013, Test Acc: 100.00%\n",
      "Epoch: 580 | Loss: 0.17832, Acc: 97.50% | Test Loss: 0.19690, Test Acc: 100.00%\n",
      "Epoch: 590 | Loss: 0.17475, Acc: 97.50% | Test Loss: 0.19381, Test Acc: 100.00%\n",
      "Epoch: 600 | Loss: 0.17133, Acc: 97.50% | Test Loss: 0.19083, Test Acc: 100.00%\n",
      "Epoch: 610 | Loss: 0.16805, Acc: 97.50% | Test Loss: 0.18797, Test Acc: 100.00%\n",
      "Epoch: 620 | Loss: 0.16490, Acc: 97.50% | Test Loss: 0.18522, Test Acc: 100.00%\n",
      "Epoch: 630 | Loss: 0.16187, Acc: 97.50% | Test Loss: 0.18259, Test Acc: 100.00%\n",
      "Epoch: 640 | Loss: 0.15897, Acc: 97.50% | Test Loss: 0.18005, Test Acc: 100.00%\n",
      "Epoch: 650 | Loss: 0.15618, Acc: 97.50% | Test Loss: 0.17761, Test Acc: 100.00%\n",
      "Epoch: 660 | Loss: 0.15351, Acc: 97.50% | Test Loss: 0.17527, Test Acc: 100.00%\n",
      "Epoch: 670 | Loss: 0.15094, Acc: 97.50% | Test Loss: 0.17302, Test Acc: 100.00%\n",
      "Epoch: 680 | Loss: 0.14848, Acc: 97.50% | Test Loss: 0.17086, Test Acc: 100.00%\n",
      "Epoch: 690 | Loss: 0.14611, Acc: 97.50% | Test Loss: 0.16878, Test Acc: 100.00%\n",
      "Epoch: 700 | Loss: 0.14384, Acc: 97.50% | Test Loss: 0.16677, Test Acc: 100.00%\n",
      "Epoch: 710 | Loss: 0.14165, Acc: 97.50% | Test Loss: 0.16485, Test Acc: 100.00%\n",
      "Epoch: 720 | Loss: 0.13955, Acc: 97.50% | Test Loss: 0.16299, Test Acc: 100.00%\n",
      "Epoch: 730 | Loss: 0.13754, Acc: 97.50% | Test Loss: 0.16121, Test Acc: 100.00%\n",
      "Epoch: 740 | Loss: 0.13560, Acc: 97.50% | Test Loss: 0.15949, Test Acc: 100.00%\n",
      "Epoch: 750 | Loss: 0.13373, Acc: 97.50% | Test Loss: 0.15783, Test Acc: 100.00%\n",
      "Epoch: 760 | Loss: 0.13194, Acc: 97.50% | Test Loss: 0.15623, Test Acc: 100.00%\n",
      "Epoch: 770 | Loss: 0.13021, Acc: 97.50% | Test Loss: 0.15469, Test Acc: 100.00%\n",
      "Epoch: 780 | Loss: 0.12855, Acc: 97.50% | Test Loss: 0.15320, Test Acc: 100.00%\n",
      "Epoch: 790 | Loss: 0.12694, Acc: 97.50% | Test Loss: 0.15177, Test Acc: 100.00%\n",
      "Epoch: 800 | Loss: 0.12540, Acc: 98.33% | Test Loss: 0.15039, Test Acc: 100.00%\n",
      "Epoch: 810 | Loss: 0.12392, Acc: 98.33% | Test Loss: 0.14905, Test Acc: 100.00%\n",
      "Epoch: 820 | Loss: 0.12248, Acc: 98.33% | Test Loss: 0.14776, Test Acc: 100.00%\n",
      "Epoch: 830 | Loss: 0.12110, Acc: 98.33% | Test Loss: 0.14651, Test Acc: 100.00%\n",
      "Epoch: 840 | Loss: 0.11977, Acc: 98.33% | Test Loss: 0.14530, Test Acc: 100.00%\n",
      "Epoch: 850 | Loss: 0.11848, Acc: 98.33% | Test Loss: 0.14414, Test Acc: 100.00%\n",
      "Epoch: 860 | Loss: 0.11724, Acc: 98.33% | Test Loss: 0.14301, Test Acc: 100.00%\n",
      "Epoch: 870 | Loss: 0.11604, Acc: 98.33% | Test Loss: 0.14192, Test Acc: 100.00%\n",
      "Epoch: 880 | Loss: 0.11488, Acc: 98.33% | Test Loss: 0.14087, Test Acc: 100.00%\n",
      "Epoch: 890 | Loss: 0.11377, Acc: 98.33% | Test Loss: 0.13984, Test Acc: 100.00%\n",
      "Epoch: 900 | Loss: 0.11268, Acc: 98.33% | Test Loss: 0.13885, Test Acc: 100.00%\n",
      "Epoch: 910 | Loss: 0.11164, Acc: 98.33% | Test Loss: 0.13790, Test Acc: 100.00%\n",
      "Epoch: 920 | Loss: 0.11063, Acc: 98.33% | Test Loss: 0.13697, Test Acc: 100.00%\n",
      "Epoch: 930 | Loss: 0.10965, Acc: 98.33% | Test Loss: 0.13606, Test Acc: 100.00%\n",
      "Epoch: 940 | Loss: 0.10870, Acc: 98.33% | Test Loss: 0.13519, Test Acc: 100.00%\n",
      "Epoch: 950 | Loss: 0.10778, Acc: 98.33% | Test Loss: 0.13434, Test Acc: 100.00%\n",
      "Epoch: 960 | Loss: 0.10690, Acc: 98.33% | Test Loss: 0.13351, Test Acc: 100.00%\n",
      "Epoch: 970 | Loss: 0.10603, Acc: 98.33% | Test Loss: 0.13271, Test Acc: 100.00%\n",
      "Epoch: 980 | Loss: 0.10520, Acc: 98.33% | Test Loss: 0.13194, Test Acc: 100.00%\n",
      "Epoch: 990 | Loss: 0.10439, Acc: 98.33% | Test Loss: 0.13118, Test Acc: 100.00%\n"
     ]
    }
   ],
   "source": [
    "epochs = 999\n",
    "\n",
    "for epoch in range(epochs):\n",
    "    modelOne.train()\n",
    "\n",
    "    y_logits = modelOne(X_train)\n",
    "    y_pred = torch.softmax(y_logits, dim=1).argmax(dim = 1)\n",
    "\n",
    "    loss = loss_fn(y_logits, y_train)\n",
    "    acc = accuracy_fn(y_true = y_train, y_pred = y_pred)\n",
    "\n",
    "    optimizer.zero_grad()\n",
    "\n",
    "    loss.backward()\n",
    "\n",
    "    optimizer.step()\n",
    "\n",
    "    # Testing loop\n",
    "    modelOne.eval()\n",
    "    with torch.inference_mode():\n",
    "        y_logits_test = modelOne(X_test)\n",
    "        y_pred_test = torch.softmax(y_logits_test, dim=1).argmax(dim = 1)\n",
    "\n",
    "        test_loss = loss_fn(y_logits_test, y_test)\n",
    "        test_acc = accuracy_fn(y_true = y_test, y_pred = y_pred_test)\n",
    "\n",
    "        if(epoch % 10 == 0) :\n",
    "            print(f\"Epoch: {epoch} | Loss: {loss:.5f}, Acc: {acc:.2f}% | Test Loss: {test_loss:.5f}, Test Acc: {test_acc:.2f}%\")\n",
    "    "
   ]
  },
  {
   "cell_type": "code",
   "execution_count": null,
   "id": "8f6ea1c5-200e-4399-91ad-1404e7e88000",
   "metadata": {},
   "outputs": [],
   "source": []
  },
  {
   "cell_type": "code",
   "execution_count": null,
   "id": "a5da0b4a-82a8-459e-ba4c-4d4bbe68e233",
   "metadata": {},
   "outputs": [],
   "source": []
  }
 ],
 "metadata": {
  "kernelspec": {
   "display_name": "Python 3 (ipykernel)",
   "language": "python",
   "name": "python3"
  },
  "language_info": {
   "codemirror_mode": {
    "name": "ipython",
    "version": 3
   },
   "file_extension": ".py",
   "mimetype": "text/x-python",
   "name": "python",
   "nbconvert_exporter": "python",
   "pygments_lexer": "ipython3",
   "version": "3.11.5"
  }
 },
 "nbformat": 4,
 "nbformat_minor": 5
}
